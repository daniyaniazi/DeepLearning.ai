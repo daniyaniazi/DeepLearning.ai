{
 "cells": [
  {
   "cell_type": "markdown",
   "metadata": {},
   "source": [
    "# Example 1"
   ]
  },
  {
   "cell_type": "code",
   "execution_count": 2,
   "metadata": {},
   "outputs": [
    {
     "name": "stdout",
     "output_type": "stream",
     "text": [
      "Vectorized Version : 0.0ms\n",
      "For Loop Version : 511.9941234588623ms\n"
     ]
    }
   ],
   "source": [
    "import time\n",
    "import numpy as np\n",
    "a = np.random.rand(1000000)\n",
    "b = np.random.rand(1000000)\n",
    "\n",
    "\n",
    "tic = time.time()\n",
    "c = np.dot(a,b)\n",
    "toc = time.time()\n",
    "print(\"Vectorized Version : \"+ str(1000*(toc-tic)) + \"ms\")\n",
    "\n",
    "\n",
    "c=0\n",
    "tic = time.time()\n",
    "for i in range(1000000):\n",
    "    c+=a[i]*b[i]\n",
    "toc = time.time()\n",
    "print(\"For Loop Version : \"+ str(1000*(toc-tic)) + \"ms\")"
   ]
  },
  {
   "cell_type": "markdown",
   "metadata": {},
   "source": [
    "# Example 2"
   ]
  },
  {
   "cell_type": "markdown",
   "metadata": {},
   "source": [
    "###### ForLoop\n"
   ]
  },
  {
   "cell_type": "code",
   "execution_count": 9,
   "metadata": {},
   "outputs": [
    {
     "name": "stdout",
     "output_type": "stream",
     "text": [
      "For Loop Version: 472.029447555542ms\n",
      "[[1.01979295]\n",
      " [1.82411121]\n",
      " [1.27783205]\n",
      " ...\n",
      " [1.16963149]\n",
      " [2.13714563]\n",
      " [2.32395972]]\n"
     ]
    }
   ],
   "source": [
    "import math\n",
    "n=1000000\n",
    "v = np.random.rand(1000000)\n",
    "u=np.zeros((n,1))\n",
    "tic = time.time()\n",
    "for i  in range(n):\n",
    "    u[i] = math.exp(v[i])\n",
    "toc = time.time()\n",
    "print(\"For Loop Version: \"+ str(1000*(toc-tic)) + \"ms\")\n",
    "print(u)"
   ]
  },
  {
   "cell_type": "code",
   "execution_count": 10,
   "metadata": {},
   "outputs": [
    {
     "name": "stdout",
     "output_type": "stream",
     "text": [
      "[1.01979295 1.82411121 1.27783205 ... 1.16963149 2.13714563 2.32395972]\n",
      "Vectorized Version : 7.9498291015625ms\n"
     ]
    }
   ],
   "source": [
    "tic = time.time()\n",
    "u = np.exp(v)\n",
    "print(u)\n",
    "toc = time.time()\n",
    "print(\"Vectorized Version : \"+ str(1000*(toc-tic)) + \"ms\")"
   ]
  },
  {
   "cell_type": "code",
   "execution_count": null,
   "metadata": {},
   "outputs": [],
   "source": []
  }
 ],
 "metadata": {
  "kernelspec": {
   "display_name": "Python 3",
   "language": "python",
   "name": "python3"
  },
  "language_info": {
   "codemirror_mode": {
    "name": "ipython",
    "version": 3
   },
   "file_extension": ".py",
   "mimetype": "text/x-python",
   "name": "python",
   "nbconvert_exporter": "python",
   "pygments_lexer": "ipython3",
   "version": "3.7.4"
  }
 },
 "nbformat": 4,
 "nbformat_minor": 2
}
